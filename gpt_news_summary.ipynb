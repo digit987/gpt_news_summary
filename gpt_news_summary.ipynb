{
 "cells": [
  {
   "cell_type": "code",
   "execution_count": 103,
   "id": "c0a1bd0f",
   "metadata": {},
   "outputs": [],
   "source": [
    "import openai\n",
    "from evaluate import load\n",
    "import evaluate\n",
    "import os"
   ]
  },
  {
   "cell_type": "markdown",
   "id": "fc3b3b0a",
   "metadata": {},
   "source": [
    "Reference Summary is original summary in the dataset and generated summary is summary genrated by LLM model."
   ]
  },
  {
   "cell_type": "code",
   "execution_count": 104,
   "id": "f2094d5d",
   "metadata": {},
   "outputs": [],
   "source": [
    "news_files_list = []\n",
    "reference_summary_files_list = []"
   ]
  },
  {
   "cell_type": "code",
   "execution_count": 105,
   "id": "79631823",
   "metadata": {},
   "outputs": [],
   "source": [
    "news_list = []"
   ]
  },
  {
   "cell_type": "code",
   "execution_count": 107,
   "id": "2c01a824",
   "metadata": {},
   "outputs": [],
   "source": [
    "reference_summary_list = []\n",
    "generated_summary_list = []"
   ]
  },
  {
   "cell_type": "code",
   "execution_count": 108,
   "id": "388102f9",
   "metadata": {},
   "outputs": [],
   "source": [
    "news_path = \"BBC News Summary/BBC News Summary/News Articles/business/\"\n",
    "reference_summary_path = \"BBC News Summary/BBC News Summary/Summaries/business/\""
   ]
  },
  {
   "cell_type": "markdown",
   "id": "9e4060be",
   "metadata": {},
   "source": [
    "We consider 10 business news from BBC news dataset."
   ]
  },
  {
   "cell_type": "code",
   "execution_count": 109,
   "id": "a0550ea0",
   "metadata": {},
   "outputs": [],
   "source": [
    "for news_file in os.listdir(news_path):\n",
    "    if int(news_file[:-4]) <= 10:\n",
    "        news_files_list.append(news_file)"
   ]
  },
  {
   "cell_type": "code",
   "execution_count": 110,
   "id": "f87c5544",
   "metadata": {},
   "outputs": [],
   "source": [
    "for reference_summary_file in os.listdir(reference_summary_path):\n",
    "    if int(reference_summary_file[:-4]) <= 10:\n",
    "        reference_summary_files_list.append(reference_summary_file)"
   ]
  },
  {
   "cell_type": "markdown",
   "id": "ae2e138b",
   "metadata": {},
   "source": [
    "Following method generates summary for a given news."
   ]
  },
  {
   "cell_type": "code",
   "execution_count": 111,
   "id": "d0094a88",
   "metadata": {},
   "outputs": [],
   "source": [
    "for news in news_files_list:\n",
    "    with open(news_path+news) as f:\n",
    "        news_list.append(f.read())"
   ]
  },
  {
   "cell_type": "code",
   "execution_count": 112,
   "id": "b258a6ec",
   "metadata": {},
   "outputs": [
    {
     "data": {
      "text/plain": [
       "10"
      ]
     },
     "execution_count": 112,
     "metadata": {},
     "output_type": "execute_result"
    }
   ],
   "source": [
    "len(news_list)"
   ]
  },
  {
   "cell_type": "code",
   "execution_count": 113,
   "id": "b7da0d43",
   "metadata": {},
   "outputs": [],
   "source": [
    "for reference_summary in reference_summary_files:\n",
    "    with open(reference_summary_path+reference_summary) as f:\n",
    "        reference_summary_list.append(f.read())"
   ]
  },
  {
   "cell_type": "code",
   "execution_count": 114,
   "id": "e78f7999",
   "metadata": {},
   "outputs": [
    {
     "data": {
      "text/plain": [
       "10"
      ]
     },
     "execution_count": 114,
     "metadata": {},
     "output_type": "execute_result"
    }
   ],
   "source": [
    "len(reference_summary_list)"
   ]
  },
  {
   "cell_type": "markdown",
   "id": "1698adad",
   "metadata": {},
   "source": [
    "We define the method to generate summary. We use GPT-3.5 Turbo model."
   ]
  },
  {
   "cell_type": "code",
   "execution_count": 131,
   "id": "953fa1d5",
   "metadata": {},
   "outputs": [],
   "source": [
    "def news_summary_generator(prompt):\n",
    "    openai.api_key = \"\"\n",
    "\n",
    "    messages=[{\"role\": \"user\", \"content\": prompt}]\n",
    "\n",
    "    response = openai.ChatCompletion.create(\n",
    "      model=\"gpt-3.5-turbo\",\n",
    "      messages=messages,\n",
    "      temperature=0.5,\n",
    "      max_tokens=1000,\n",
    "      top_p=1.0,\n",
    "      frequency_penalty=0.0,\n",
    "      presence_penalty=0.0\n",
    "    )\n",
    "\n",
    "    return response['choices'][0]['message']['content']"
   ]
  },
  {
   "cell_type": "code",
   "execution_count": 116,
   "id": "6ab2a088",
   "metadata": {},
   "outputs": [],
   "source": [
    "for news in news_list:\n",
    "    prompt = \"Generate a summary for this news: \"\n",
    "    if len(news) > 1000:\n",
    "        prompt += news[:1000]\n",
    "    prompt += news\n",
    "    generated_summary_list.append(news_summary_generator(prompt))"
   ]
  },
  {
   "cell_type": "markdown",
   "id": "2ff4d697",
   "metadata": {},
   "source": [
    "Checking the length of summaries generated"
   ]
  },
  {
   "cell_type": "code",
   "execution_count": 123,
   "id": "7fb0ef58",
   "metadata": {},
   "outputs": [
    {
     "name": "stdout",
     "output_type": "stream",
     "text": [
      "534\n",
      "695\n",
      "669\n",
      "597\n",
      "608\n",
      "688\n",
      "578\n",
      "1088\n",
      "887\n",
      "612\n"
     ]
    }
   ],
   "source": [
    "for i in generated_summary_list:\n",
    "    print(len(i))"
   ]
  },
  {
   "cell_type": "code",
   "execution_count": 124,
   "id": "f87fb9a8",
   "metadata": {},
   "outputs": [
    {
     "name": "stdout",
     "output_type": "stream",
     "text": [
      "901\n",
      "938\n",
      "690\n",
      "1208\n",
      "629\n",
      "445\n",
      "783\n",
      "989\n",
      "646\n",
      "604\n"
     ]
    }
   ],
   "source": [
    "for i in reference_summary_list:\n",
    "    print(len(i))"
   ]
  },
  {
   "cell_type": "markdown",
   "id": "4e97c043",
   "metadata": {},
   "source": [
    "Now, we randomly check the difference in generated and original summary."
   ]
  },
  {
   "cell_type": "code",
   "execution_count": 117,
   "id": "e6c266b5",
   "metadata": {},
   "outputs": [
    {
     "data": {
      "text/plain": [
       "\"TimeWarner said fourth quarter sales rose 2% to $11.1bn from $10.9bn.For the full-year, TimeWarner posted a profit of $3.36bn, up 27% from its 2003 performance, while revenues grew 6.4% to $42.09bn.Quarterly profits at US media giant TimeWarner jumped 76% to $1.13bn (Â£600m) for the three months to December, from $639m year-earlier.However, the company said AOL's underlying profit before exceptional items rose 8% on the back of stronger internet advertising revenues.Its profits were buoyed by one-off gains which offset a profit dip at Warner Bros, and less users for AOL.For 2005, TimeWarner is projecting operating earnings growth of around 5%, and also expects higher revenue and wider profit margins.It lost 464,000 subscribers in the fourth quarter profits were lower than in the preceding three quarters.Time Warner's fourth quarter profits were slightly better than analysts' expectations.\""
      ]
     },
     "execution_count": 117,
     "metadata": {},
     "output_type": "execute_result"
    }
   ],
   "source": [
    "reference_summary_list[0]"
   ]
  },
  {
   "cell_type": "code",
   "execution_count": 118,
   "id": "c192c600",
   "metadata": {},
   "outputs": [
    {
     "data": {
      "text/plain": [
       "\"Time Warner's quarterly profits increased by 76% to $1.13bn for the three months to December, benefiting from sales of high-speed internet connections and higher ad sales. The company also announced that it now owns 8% of Google. However, its internet business AOL saw a decline in subscribers and lower profits. Time Warner plans to increase AOL subscribers by offering the online service for free to Time Warner internet customers. The company also aims to restate its accounts following an inquiry into AOL by US market regulators.\""
      ]
     },
     "execution_count": 118,
     "metadata": {},
     "output_type": "execute_result"
    }
   ],
   "source": [
    "generated_summary_list[0]"
   ]
  },
  {
   "cell_type": "code",
   "execution_count": 119,
   "id": "51fbf319",
   "metadata": {},
   "outputs": [
    {
     "data": {
      "text/plain": [
       "\"At a conference on developing enterprise hosted by UK finance minister Gordon Brown on Friday, he said that he was in favour of floating exchange rates because they help countries cope with economic shocks.In London on Thursday ahead of the meeting, India's finance minister, lashed out at the restrictive trade policies of the G7 nations.Mr Chidambaram is attending the G7 meeting as part of the G20 group of nations, which account for two thirds of the world's population.China is expected to face renewed pressure to abandon its fixed exchange rate, which G7 nations, in particular the US, have blamed for a surge in cheap Chinese exports.Palaniappan Chidambaram, India's finance minister, argued that these organisations need to take into account the changing world order, given India and China's integration into the global economy.India, along with China, Brazil, South Africa and Russia, has been invited to take part in the G7 meeting taking place in London on Friday and Saturday.\""
      ]
     },
     "execution_count": 119,
     "metadata": {},
     "output_type": "execute_result"
    }
   ],
   "source": [
    "reference_summary_list[7]"
   ]
  },
  {
   "cell_type": "code",
   "execution_count": 120,
   "id": "2d4835ca",
   "metadata": {},
   "outputs": [
    {
     "data": {
      "text/plain": [
       "\"India's finance minister, Palaniappan Chidambaram, has criticized the restrictive trade policies of the G7 nations ahead of the G7 meeting in London. He specifically objected to subsidies on agriculture that make it difficult for developing nations like India to compete. Chidambaram also called for reform of the United Nations, the World Bank, and the International Monetary Fund (IMF) to reflect the changing world order with the integration of India and China into the global economy. He argued that the issue is not globalization itself but rather the terms of engagement in globalization. Chidambaram is attending the G7 meeting as part of the G20 group of nations, which represent two-thirds of the world's population. At a conference on developing enterprise, he expressed support for floating exchange rates as they help countries manage economic shocks. India, along with China, Brazil, South Africa, and Russia, has been invited to participate in the G7 meeting. The IMF separately warned that India's budget deficit is too large and could hinder the country's economic growth.\""
      ]
     },
     "execution_count": 120,
     "metadata": {},
     "output_type": "execute_result"
    }
   ],
   "source": [
    "generated_summary_list[7]"
   ]
  },
  {
   "cell_type": "markdown",
   "id": "6be919de",
   "metadata": {},
   "source": [
    "Now, we calculate ROGUE score."
   ]
  },
  {
   "cell_type": "code",
   "execution_count": 126,
   "id": "95c55a38",
   "metadata": {},
   "outputs": [
    {
     "name": "stdout",
     "output_type": "stream",
     "text": [
      "{'rouge1': 0.03, 'rouge2': 0.0, 'rougeL': 0.03, 'rougeLsum': 0.03}\n",
      "{'rouge1': 0.0375, 'rouge2': 0.0, 'rougeL': 0.0375, 'rougeLsum': 0.0375}\n",
      "{'rouge1': 0.035, 'rouge2': 0.0, 'rougeL': 0.035, 'rougeLsum': 0.035}\n",
      "{'rouge1': 0.0425, 'rouge2': 0.0, 'rougeL': 0.0425, 'rougeLsum': 0.0425}\n",
      "{'rouge1': 0.04, 'rouge2': 0.0, 'rougeL': 0.04, 'rougeLsum': 0.04}\n",
      "{'rouge1': 0.0475, 'rouge2': 0.0, 'rougeL': 0.0475, 'rougeLsum': 0.0475}\n",
      "{'rouge1': 0.055, 'rouge2': 0.0, 'rougeL': 0.055, 'rougeLsum': 0.055}\n",
      "{'rouge1': 0.055, 'rouge2': 0.0, 'rougeL': 0.055, 'rougeLsum': 0.055}\n",
      "{'rouge1': 0.065, 'rouge2': 0.0, 'rougeL': 0.065, 'rougeLsum': 0.065}\n",
      "{'rouge1': 0.06, 'rouge2': 0.0, 'rougeL': 0.06, 'rougeLsum': 0.06}\n"
     ]
    }
   ],
   "source": [
    "rouge = evaluate.load('rouge')\n",
    "for i in range(10):\n",
    "    results = rouge.compute(predictions=generated_summary_list[i][:400], references=reference_summary_list[i][:400])\n",
    "    print(results)"
   ]
  }
 ],
 "metadata": {
  "kernelspec": {
   "display_name": "Python 3 (ipykernel)",
   "language": "python",
   "name": "python3"
  },
  "language_info": {
   "codemirror_mode": {
    "name": "ipython",
    "version": 3
   },
   "file_extension": ".py",
   "mimetype": "text/x-python",
   "name": "python",
   "nbconvert_exporter": "python",
   "pygments_lexer": "ipython3",
   "version": "3.11.4"
  }
 },
 "nbformat": 4,
 "nbformat_minor": 5
}
